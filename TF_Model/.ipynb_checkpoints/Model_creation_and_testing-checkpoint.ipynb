{
 "cells": [
  {
   "cell_type": "markdown",
   "id": "secondary-essence",
   "metadata": {},
   "source": [
    "# Model Creation and Testing for DHI Predictions"
   ]
  },
  {
   "cell_type": "code",
   "execution_count": 24,
   "id": "seven-thesaurus",
   "metadata": {},
   "outputs": [],
   "source": [
    "import tensorflow as tf\n",
    "import pandas as pd\n",
    "from os import listdir\n",
    "from sklearn import preprocessing\n",
    "import sklearn as sklearn\n",
    "import datetime\n",
    "import numpy as np\n",
    "import matplotlib.pyplot as plt\n",
    "from IPython.display import SVG\n",
    "from tensorflow.keras.utils import model_to_dot\n",
    "from sklearn.ensemble import RandomForestRegressor\n",
    "font_size=12\n",
    "csfont = {'fontname':'Times New Roman'}\n",
    "cities = ['BarrancoMinas', 'Bogota', 'Caruru', 'Chajal', 'Sipi', 'PuertoMerizalde']"
   ]
  },
  {
   "cell_type": "markdown",
   "id": "animal-browser",
   "metadata": {},
   "source": [
    "## Load Dataset"
   ]
  },
  {
   "cell_type": "code",
   "execution_count": 36,
   "id": "intellectual-planning",
   "metadata": {},
   "outputs": [],
   "source": [
    "city = 'BarrancoMinas' # select the city to which you wish to create a model\n",
    "preprocess = True # if preprocess is set to true, then the data will be standarized\n",
    "\n",
    "\n",
    "def find_csv_filenames( path_to_dir, suffix=\".csv\" ):\n",
    "    filenames = listdir(path_to_dir)\n",
    "    return [ filename for filename in filenames if filename.endswith( suffix ) ]\n",
    "def load_csv(city, preprocess):\n",
    "    csv_list_train = find_csv_filenames('./Data_set_with_feature_engineering/train/')\n",
    "    csv_list_test = find_csv_filenames('./Data_set_with_feature_engineering/test/')\n",
    "\n",
    "    for i, name in enumerate(csv_list_train):\n",
    "        if city in name:\n",
    "            df = pd.read_csv(r'./Data_set_with_feature_engineering/train/{}'.format(name), index_col=None)\n",
    "            train_x = df.iloc[:, 0:-1]\n",
    "            train_y = df.iloc[:,-1]\n",
    "\n",
    "            df = pd.read_csv(r'./Data_set_with_feature_engineering/test/{}'.format(csv_list_test[i]), index_col=None)\n",
    "            test_x = df.iloc[:, 0:-1]\n",
    "            test_y = df.iloc[:,-1]\n",
    "\n",
    "    #------ Create tf dataset from the csv file downloaded and preprocess if using nn -----------------------------\n",
    "\n",
    "    if preprocess:\n",
    "        standard_scaler = preprocessing.StandardScaler()\n",
    "        x_train_scaled = standard_scaler.fit_transform(train_x)\n",
    "        train_x = pd.DataFrame(x_train_scaled)\n",
    "        test_x = pd.DataFrame(standard_scaler.transform(test_x))\n",
    "\n",
    "\n",
    "    train_dataset = tf.data.Dataset.from_tensor_slices((train_x, train_y))\n",
    "\n",
    "    train_dataset = train_dataset.shuffle(len(train_dataset)).batch(64)\n",
    "\n",
    "    test_dataset = tf.data.Dataset.from_tensor_slices((test_x, test_y)).batch(64)\n",
    "\n",
    "    return train_x, train_y, test_x, test_y, train_dataset, test_dataset\n",
    "\n",
    "train_x, train_y, test_x, test_y, train_dataset, test_dataset = load_csv(city, preprocess)\n",
    "\n",
    "# for feat, targ in train_dataset.take(5):\n",
    "#     print ('Features: {}, Target: {}'.format(feat, targ))"
   ]
  },
  {
   "cell_type": "markdown",
   "id": "fitting-alexander",
   "metadata": {},
   "source": [
    "## Create, Train and Save Model"
   ]
  },
  {
   "cell_type": "code",
   "execution_count": 38,
   "id": "solved-acquisition",
   "metadata": {},
   "outputs": [],
   "source": [
    "def get_compiled_model():\n",
    "    model = tf.keras.Sequential([\n",
    "        tf.keras.layers.Input((8,)),\n",
    "        tf.keras.layers.Dense(128, activation='selu', kernel_initializer=\"lecun_uniform\"),\n",
    "        tf.keras.layers.Dense(128, activation='selu', kernel_initializer=\"lecun_uniform\"),\n",
    "        tf.keras.layers.Dense(128, activation='selu', kernel_initializer=\"lecun_uniform\"),\n",
    "        tf.keras.layers.Dense(128, activation='selu', kernel_initializer=\"lecun_uniform\"),\n",
    "        #tf.keras.layers.Dense(128, activation='selu'),\n",
    "        tf.keras.layers.Dense(1)\n",
    "    ])\n",
    "    #ndam 7 selu standarization 128*4, bs = 64\n",
    "    model.compile(optimizer='nadam', loss='mse', metrics=tf.keras.metrics.RootMeanSquaredError())\n",
    "    return model\n"
   ]
  },
  {
   "cell_type": "code",
   "execution_count": 39,
   "id": "stuck-trading",
   "metadata": {},
   "outputs": [
    {
     "name": "stdout",
     "output_type": "stream",
     "text": [
      "Model: \"sequential\"\n",
      "_________________________________________________________________\n",
      "Layer (type)                 Output Shape              Param #   \n",
      "=================================================================\n",
      "dense (Dense)                (None, 128)               1152      \n",
      "_________________________________________________________________\n",
      "dense_1 (Dense)              (None, 128)               16512     \n",
      "_________________________________________________________________\n",
      "dense_2 (Dense)              (None, 128)               16512     \n",
      "_________________________________________________________________\n",
      "dense_3 (Dense)              (None, 128)               16512     \n",
      "_________________________________________________________________\n",
      "dense_4 (Dense)              (None, 1)                 129       \n",
      "=================================================================\n",
      "Total params: 50,817\n",
      "Trainable params: 50,817\n",
      "Non-trainable params: 0\n",
      "_________________________________________________________________\n"
     ]
    },
    {
     "data": {
      "image/svg+xml": [
       "<svg xmlns=\"http://www.w3.org/2000/svg\" xmlns:xlink=\"http://www.w3.org/1999/xlink\" width=\"243pt\" height=\"424pt\" viewBox=\"0.00 0.00 269.00 470.00\">\n",
       "<g id=\"graph0\" class=\"graph\" transform=\"scale(0.9 0.9) rotate(0) translate(4 466)\">\n",
       "<title>G</title>\n",
       "<polygon fill=\"white\" stroke=\"transparent\" points=\"-4,4 -4,-466 265,-466 265,4 -4,4\"/>\n",
       "<!-- 2573969427616 -->\n",
       "<g id=\"node1\" class=\"node\">\n",
       "<title>2573969427616</title>\n",
       "<polygon fill=\"none\" stroke=\"black\" points=\"0,-415.5 0,-461.5 261,-461.5 261,-415.5 0,-415.5\"/>\n",
       "<text text-anchor=\"middle\" x=\"63\" y=\"-434.8\" font-family=\"Times New Roman,serif\" font-size=\"14.00\">input_1: InputLayer</text>\n",
       "<polyline fill=\"none\" stroke=\"black\" points=\"126,-415.5 126,-461.5 \"/>\n",
       "<text text-anchor=\"middle\" x=\"154\" y=\"-446.3\" font-family=\"Times New Roman,serif\" font-size=\"14.00\">input:</text>\n",
       "<polyline fill=\"none\" stroke=\"black\" points=\"126,-438.5 182,-438.5 \"/>\n",
       "<text text-anchor=\"middle\" x=\"154\" y=\"-423.3\" font-family=\"Times New Roman,serif\" font-size=\"14.00\">output:</text>\n",
       "<polyline fill=\"none\" stroke=\"black\" points=\"182,-415.5 182,-461.5 \"/>\n",
       "<text text-anchor=\"middle\" x=\"221.5\" y=\"-446.3\" font-family=\"Times New Roman,serif\" font-size=\"14.00\">[(None, 8)]</text>\n",
       "<polyline fill=\"none\" stroke=\"black\" points=\"182,-438.5 261,-438.5 \"/>\n",
       "<text text-anchor=\"middle\" x=\"221.5\" y=\"-423.3\" font-family=\"Times New Roman,serif\" font-size=\"14.00\">[(None, 8)]</text>\n",
       "</g>\n",
       "<!-- 2573969427040 -->\n",
       "<g id=\"node2\" class=\"node\">\n",
       "<title>2573969427040</title>\n",
       "<polygon fill=\"none\" stroke=\"black\" points=\"16,-332.5 16,-378.5 245,-378.5 245,-332.5 16,-332.5\"/>\n",
       "<text text-anchor=\"middle\" x=\"61\" y=\"-351.8\" font-family=\"Times New Roman,serif\" font-size=\"14.00\">dense: Dense</text>\n",
       "<polyline fill=\"none\" stroke=\"black\" points=\"106,-332.5 106,-378.5 \"/>\n",
       "<text text-anchor=\"middle\" x=\"134\" y=\"-363.3\" font-family=\"Times New Roman,serif\" font-size=\"14.00\">input:</text>\n",
       "<polyline fill=\"none\" stroke=\"black\" points=\"106,-355.5 162,-355.5 \"/>\n",
       "<text text-anchor=\"middle\" x=\"134\" y=\"-340.3\" font-family=\"Times New Roman,serif\" font-size=\"14.00\">output:</text>\n",
       "<polyline fill=\"none\" stroke=\"black\" points=\"162,-332.5 162,-378.5 \"/>\n",
       "<text text-anchor=\"middle\" x=\"203.5\" y=\"-363.3\" font-family=\"Times New Roman,serif\" font-size=\"14.00\">(None, 8)</text>\n",
       "<polyline fill=\"none\" stroke=\"black\" points=\"162,-355.5 245,-355.5 \"/>\n",
       "<text text-anchor=\"middle\" x=\"203.5\" y=\"-340.3\" font-family=\"Times New Roman,serif\" font-size=\"14.00\">(None, 128)</text>\n",
       "</g>\n",
       "<!-- 2573969427616&#45;&gt;2573969427040 -->\n",
       "<g id=\"edge1\" class=\"edge\">\n",
       "<title>2573969427616-&gt;2573969427040</title>\n",
       "<path fill=\"none\" stroke=\"black\" d=\"M130.5,-415.37C130.5,-407.15 130.5,-397.66 130.5,-388.73\"/>\n",
       "<polygon fill=\"black\" stroke=\"black\" points=\"134,-388.61 130.5,-378.61 127,-388.61 134,-388.61\"/>\n",
       "</g>\n",
       "<!-- 2573969425504 -->\n",
       "<g id=\"node3\" class=\"node\">\n",
       "<title>2573969425504</title>\n",
       "<polygon fill=\"none\" stroke=\"black\" points=\"9,-249.5 9,-295.5 252,-295.5 252,-249.5 9,-249.5\"/>\n",
       "<text text-anchor=\"middle\" x=\"61\" y=\"-268.8\" font-family=\"Times New Roman,serif\" font-size=\"14.00\">dense_1: Dense</text>\n",
       "<polyline fill=\"none\" stroke=\"black\" points=\"113,-249.5 113,-295.5 \"/>\n",
       "<text text-anchor=\"middle\" x=\"141\" y=\"-280.3\" font-family=\"Times New Roman,serif\" font-size=\"14.00\">input:</text>\n",
       "<polyline fill=\"none\" stroke=\"black\" points=\"113,-272.5 169,-272.5 \"/>\n",
       "<text text-anchor=\"middle\" x=\"141\" y=\"-257.3\" font-family=\"Times New Roman,serif\" font-size=\"14.00\">output:</text>\n",
       "<polyline fill=\"none\" stroke=\"black\" points=\"169,-249.5 169,-295.5 \"/>\n",
       "<text text-anchor=\"middle\" x=\"210.5\" y=\"-280.3\" font-family=\"Times New Roman,serif\" font-size=\"14.00\">(None, 128)</text>\n",
       "<polyline fill=\"none\" stroke=\"black\" points=\"169,-272.5 252,-272.5 \"/>\n",
       "<text text-anchor=\"middle\" x=\"210.5\" y=\"-257.3\" font-family=\"Times New Roman,serif\" font-size=\"14.00\">(None, 128)</text>\n",
       "</g>\n",
       "<!-- 2573969427040&#45;&gt;2573969425504 -->\n",
       "<g id=\"edge2\" class=\"edge\">\n",
       "<title>2573969427040-&gt;2573969425504</title>\n",
       "<path fill=\"none\" stroke=\"black\" d=\"M130.5,-332.37C130.5,-324.15 130.5,-314.66 130.5,-305.73\"/>\n",
       "<polygon fill=\"black\" stroke=\"black\" points=\"134,-305.61 130.5,-295.61 127,-305.61 134,-305.61\"/>\n",
       "</g>\n",
       "<!-- 2573531960800 -->\n",
       "<g id=\"node4\" class=\"node\">\n",
       "<title>2573531960800</title>\n",
       "<polygon fill=\"none\" stroke=\"black\" points=\"9,-166.5 9,-212.5 252,-212.5 252,-166.5 9,-166.5\"/>\n",
       "<text text-anchor=\"middle\" x=\"61\" y=\"-185.8\" font-family=\"Times New Roman,serif\" font-size=\"14.00\">dense_2: Dense</text>\n",
       "<polyline fill=\"none\" stroke=\"black\" points=\"113,-166.5 113,-212.5 \"/>\n",
       "<text text-anchor=\"middle\" x=\"141\" y=\"-197.3\" font-family=\"Times New Roman,serif\" font-size=\"14.00\">input:</text>\n",
       "<polyline fill=\"none\" stroke=\"black\" points=\"113,-189.5 169,-189.5 \"/>\n",
       "<text text-anchor=\"middle\" x=\"141\" y=\"-174.3\" font-family=\"Times New Roman,serif\" font-size=\"14.00\">output:</text>\n",
       "<polyline fill=\"none\" stroke=\"black\" points=\"169,-166.5 169,-212.5 \"/>\n",
       "<text text-anchor=\"middle\" x=\"210.5\" y=\"-197.3\" font-family=\"Times New Roman,serif\" font-size=\"14.00\">(None, 128)</text>\n",
       "<polyline fill=\"none\" stroke=\"black\" points=\"169,-189.5 252,-189.5 \"/>\n",
       "<text text-anchor=\"middle\" x=\"210.5\" y=\"-174.3\" font-family=\"Times New Roman,serif\" font-size=\"14.00\">(None, 128)</text>\n",
       "</g>\n",
       "<!-- 2573969425504&#45;&gt;2573531960800 -->\n",
       "<g id=\"edge3\" class=\"edge\">\n",
       "<title>2573969425504-&gt;2573531960800</title>\n",
       "<path fill=\"none\" stroke=\"black\" d=\"M130.5,-249.37C130.5,-241.15 130.5,-231.66 130.5,-222.73\"/>\n",
       "<polygon fill=\"black\" stroke=\"black\" points=\"134,-222.61 130.5,-212.61 127,-222.61 134,-222.61\"/>\n",
       "</g>\n",
       "<!-- 2573531960032 -->\n",
       "<g id=\"node5\" class=\"node\">\n",
       "<title>2573531960032</title>\n",
       "<polygon fill=\"none\" stroke=\"black\" points=\"9,-83.5 9,-129.5 252,-129.5 252,-83.5 9,-83.5\"/>\n",
       "<text text-anchor=\"middle\" x=\"61\" y=\"-102.8\" font-family=\"Times New Roman,serif\" font-size=\"14.00\">dense_3: Dense</text>\n",
       "<polyline fill=\"none\" stroke=\"black\" points=\"113,-83.5 113,-129.5 \"/>\n",
       "<text text-anchor=\"middle\" x=\"141\" y=\"-114.3\" font-family=\"Times New Roman,serif\" font-size=\"14.00\">input:</text>\n",
       "<polyline fill=\"none\" stroke=\"black\" points=\"113,-106.5 169,-106.5 \"/>\n",
       "<text text-anchor=\"middle\" x=\"141\" y=\"-91.3\" font-family=\"Times New Roman,serif\" font-size=\"14.00\">output:</text>\n",
       "<polyline fill=\"none\" stroke=\"black\" points=\"169,-83.5 169,-129.5 \"/>\n",
       "<text text-anchor=\"middle\" x=\"210.5\" y=\"-114.3\" font-family=\"Times New Roman,serif\" font-size=\"14.00\">(None, 128)</text>\n",
       "<polyline fill=\"none\" stroke=\"black\" points=\"169,-106.5 252,-106.5 \"/>\n",
       "<text text-anchor=\"middle\" x=\"210.5\" y=\"-91.3\" font-family=\"Times New Roman,serif\" font-size=\"14.00\">(None, 128)</text>\n",
       "</g>\n",
       "<!-- 2573531960800&#45;&gt;2573531960032 -->\n",
       "<g id=\"edge4\" class=\"edge\">\n",
       "<title>2573531960800-&gt;2573531960032</title>\n",
       "<path fill=\"none\" stroke=\"black\" d=\"M130.5,-166.37C130.5,-158.15 130.5,-148.66 130.5,-139.73\"/>\n",
       "<polygon fill=\"black\" stroke=\"black\" points=\"134,-139.61 130.5,-129.61 127,-139.61 134,-139.61\"/>\n",
       "</g>\n",
       "<!-- 2573984880768 -->\n",
       "<g id=\"node6\" class=\"node\">\n",
       "<title>2573984880768</title>\n",
       "<polygon fill=\"none\" stroke=\"black\" points=\"9,-0.5 9,-46.5 252,-46.5 252,-0.5 9,-0.5\"/>\n",
       "<text text-anchor=\"middle\" x=\"61\" y=\"-19.8\" font-family=\"Times New Roman,serif\" font-size=\"14.00\">dense_4: Dense</text>\n",
       "<polyline fill=\"none\" stroke=\"black\" points=\"113,-0.5 113,-46.5 \"/>\n",
       "<text text-anchor=\"middle\" x=\"141\" y=\"-31.3\" font-family=\"Times New Roman,serif\" font-size=\"14.00\">input:</text>\n",
       "<polyline fill=\"none\" stroke=\"black\" points=\"113,-23.5 169,-23.5 \"/>\n",
       "<text text-anchor=\"middle\" x=\"141\" y=\"-8.3\" font-family=\"Times New Roman,serif\" font-size=\"14.00\">output:</text>\n",
       "<polyline fill=\"none\" stroke=\"black\" points=\"169,-0.5 169,-46.5 \"/>\n",
       "<text text-anchor=\"middle\" x=\"210.5\" y=\"-31.3\" font-family=\"Times New Roman,serif\" font-size=\"14.00\">(None, 128)</text>\n",
       "<polyline fill=\"none\" stroke=\"black\" points=\"169,-23.5 252,-23.5 \"/>\n",
       "<text text-anchor=\"middle\" x=\"210.5\" y=\"-8.3\" font-family=\"Times New Roman,serif\" font-size=\"14.00\">(None, 1)</text>\n",
       "</g>\n",
       "<!-- 2573531960032&#45;&gt;2573984880768 -->\n",
       "<g id=\"edge5\" class=\"edge\">\n",
       "<title>2573531960032-&gt;2573984880768</title>\n",
       "<path fill=\"none\" stroke=\"black\" d=\"M130.5,-83.37C130.5,-75.15 130.5,-65.66 130.5,-56.73\"/>\n",
       "<polygon fill=\"black\" stroke=\"black\" points=\"134,-56.61 130.5,-46.61 127,-56.61 134,-56.61\"/>\n",
       "</g>\n",
       "</g>\n",
       "</svg>"
      ],
      "text/plain": [
       "<IPython.core.display.SVG object>"
      ]
     },
     "execution_count": 39,
     "metadata": {},
     "output_type": "execute_result"
    }
   ],
   "source": [
    "model = get_compiled_model()\n",
    "model.summary()\n",
    "model_to_dot(model, show_shapes = True, expand_nested = True, dpi = 65)\n",
    "SVG(model_to_dot(model, show_shapes = True, expand_nested = True, dpi = 65).create(prog='dot', format='svg'))"
   ]
  },
  {
   "cell_type": "code",
   "execution_count": 41,
   "id": "hidden-wesley",
   "metadata": {},
   "outputs": [
    {
     "name": "stdout",
     "output_type": "stream",
     "text": [
      "Epoch 1/100\n",
      "1155/1155 [==============================] - 13s 10ms/step - loss: 9909.0607 - root_mean_squared_error: 89.4647 - val_loss: 261.9649 - val_root_mean_squared_error: 16.1853\n",
      "\n",
      "Epoch 00001: val_root_mean_squared_error improved from inf to 16.18533, saving model to chk_points\\\n",
      "Epoch 2/100\n",
      "1155/1155 [==============================] - 12s 10ms/step - loss: 124.2985 - root_mean_squared_error: 11.1473 - val_loss: 209.1070 - val_root_mean_squared_error: 14.4605\n",
      "\n",
      "Epoch 00002: val_root_mean_squared_error improved from 16.18533 to 14.46053, saving model to chk_points\\\n",
      "Epoch 3/100\n",
      "1155/1155 [==============================] - 14s 12ms/step - loss: 93.7400 - root_mean_squared_error: 9.6778 - val_loss: 111.0578 - val_root_mean_squared_error: 10.5384\n",
      "\n",
      "Epoch 00003: val_root_mean_squared_error improved from 14.46053 to 10.53840, saving model to chk_points\\\n",
      "Epoch 4/100\n",
      "1155/1155 [==============================] - 16s 14ms/step - loss: 83.2776 - root_mean_squared_error: 9.1189 - val_loss: 98.3000 - val_root_mean_squared_error: 9.9146\n",
      "\n",
      "Epoch 00004: val_root_mean_squared_error improved from 10.53840 to 9.91464, saving model to chk_points\\\n",
      "Epoch 5/100\n",
      "1155/1155 [==============================] - 12s 11ms/step - loss: 73.5358 - root_mean_squared_error: 8.5705 - val_loss: 97.4600 - val_root_mean_squared_error: 9.8722\n",
      "\n",
      "Epoch 00005: val_root_mean_squared_error improved from 9.91464 to 9.87218, saving model to chk_points\\\n",
      "Epoch 6/100\n",
      "1155/1155 [==============================] - 12s 11ms/step - loss: 68.4947 - root_mean_squared_error: 8.2690 - val_loss: 243.3223 - val_root_mean_squared_error: 15.5988\n",
      "\n",
      "Epoch 00006: val_root_mean_squared_error did not improve from 9.87218\n",
      "Epoch 7/100\n",
      "1155/1155 [==============================] - 12s 11ms/step - loss: 65.2439 - root_mean_squared_error: 8.0691 - val_loss: 81.2275 - val_root_mean_squared_error: 9.0126\n",
      "\n",
      "Epoch 00007: val_root_mean_squared_error improved from 9.87218 to 9.01263, saving model to chk_points\\\n",
      "Epoch 8/100\n",
      "1155/1155 [==============================] - 12s 10ms/step - loss: 59.4197 - root_mean_squared_error: 7.7065 - val_loss: 99.5994 - val_root_mean_squared_error: 9.9799\n",
      "\n",
      "Epoch 00008: val_root_mean_squared_error did not improve from 9.01263\n",
      "Epoch 9/100\n",
      "1155/1155 [==============================] - 12s 11ms/step - loss: 60.5105 - root_mean_squared_error: 7.7750 - val_loss: 58.4728 - val_root_mean_squared_error: 7.6468\n",
      "\n",
      "Epoch 00009: val_root_mean_squared_error improved from 9.01263 to 7.64675, saving model to chk_points\\\n",
      "Epoch 10/100\n",
      "1155/1155 [==============================] - 12s 11ms/step - loss: 54.3969 - root_mean_squared_error: 7.3712 - val_loss: 58.4886 - val_root_mean_squared_error: 7.6478\n",
      "\n",
      "Epoch 00010: val_root_mean_squared_error did not improve from 7.64675\n",
      "Epoch 11/100\n",
      "1155/1155 [==============================] - 12s 11ms/step - loss: 53.4563 - root_mean_squared_error: 7.3100 - val_loss: 64.5377 - val_root_mean_squared_error: 8.0335\n",
      "\n",
      "Epoch 00011: val_root_mean_squared_error did not improve from 7.64675\n",
      "Epoch 12/100\n",
      "1155/1155 [==============================] - 12s 11ms/step - loss: 51.5880 - root_mean_squared_error: 7.1788 - val_loss: 57.3630 - val_root_mean_squared_error: 7.5738\n",
      "\n",
      "Epoch 00012: val_root_mean_squared_error improved from 7.64675 to 7.57384, saving model to chk_points\\\n",
      "Epoch 13/100\n",
      "1155/1155 [==============================] - 12s 10ms/step - loss: 52.3783 - root_mean_squared_error: 7.2339 - val_loss: 55.6662 - val_root_mean_squared_error: 7.4610\n",
      "\n",
      "Epoch 00013: val_root_mean_squared_error improved from 7.57384 to 7.46098, saving model to chk_points\\\n",
      "Epoch 14/100\n",
      "1155/1155 [==============================] - 12s 10ms/step - loss: 51.0838 - root_mean_squared_error: 7.1429 - val_loss: 68.3661 - val_root_mean_squared_error: 8.2684\n",
      "\n",
      "Epoch 00014: val_root_mean_squared_error did not improve from 7.46098\n",
      "Epoch 15/100\n",
      "1155/1155 [==============================] - 12s 10ms/step - loss: 51.5869 - root_mean_squared_error: 7.1814 - val_loss: 59.1068 - val_root_mean_squared_error: 7.6881\n",
      "\n",
      "Epoch 00015: val_root_mean_squared_error did not improve from 7.46098\n",
      "Epoch 16/100\n",
      "1155/1155 [==============================] - 13s 11ms/step - loss: 48.6831 - root_mean_squared_error: 6.9730 - val_loss: 68.7634 - val_root_mean_squared_error: 8.2924\n",
      "\n",
      "Epoch 00016: val_root_mean_squared_error did not improve from 7.46098\n",
      "Epoch 17/100\n",
      "1155/1155 [==============================] - 13s 11ms/step - loss: 50.0462 - root_mean_squared_error: 7.0713 - val_loss: 53.0438 - val_root_mean_squared_error: 7.2831\n",
      "\n",
      "Epoch 00017: val_root_mean_squared_error improved from 7.46098 to 7.28312, saving model to chk_points\\\n",
      "Epoch 18/100\n",
      "1155/1155 [==============================] - 13s 11ms/step - loss: 47.7609 - root_mean_squared_error: 6.9051 - val_loss: 55.6809 - val_root_mean_squared_error: 7.4620\n",
      "\n",
      "Epoch 00018: val_root_mean_squared_error did not improve from 7.28312\n",
      "Epoch 19/100\n",
      "1155/1155 [==============================] - 13s 11ms/step - loss: 51.7095 - root_mean_squared_error: 7.1839 - val_loss: 67.3956 - val_root_mean_squared_error: 8.2095\n",
      "\n",
      "Epoch 00019: val_root_mean_squared_error did not improve from 7.28312\n",
      "Epoch 20/100\n",
      "1155/1155 [==============================] - 13s 11ms/step - loss: 48.5782 - root_mean_squared_error: 6.9680 - val_loss: 58.3616 - val_root_mean_squared_error: 7.6395\n",
      "\n",
      "Epoch 00020: val_root_mean_squared_error did not improve from 7.28312\n",
      "Epoch 21/100\n",
      "1155/1155 [==============================] - 13s 11ms/step - loss: 51.8824 - root_mean_squared_error: 7.1970 - val_loss: 54.8137 - val_root_mean_squared_error: 7.4036\n",
      "\n",
      "Epoch 00021: val_root_mean_squared_error did not improve from 7.28312\n",
      "Epoch 22/100\n",
      "1155/1155 [==============================] - 14s 12ms/step - loss: 50.6388 - root_mean_squared_error: 7.1136 - val_loss: 54.5610 - val_root_mean_squared_error: 7.3865\n",
      "\n",
      "Epoch 00022: val_root_mean_squared_error did not improve from 7.28312\n",
      "Epoch 23/100\n",
      "1155/1155 [==============================] - 15s 13ms/step - loss: 47.7415 - root_mean_squared_error: 6.9073 - val_loss: 53.5413 - val_root_mean_squared_error: 7.3172\n",
      "\n",
      "Epoch 00023: val_root_mean_squared_error did not improve from 7.28312\n",
      "Epoch 24/100\n",
      "1155/1155 [==============================] - 14s 12ms/step - loss: 46.3454 - root_mean_squared_error: 6.8042 - val_loss: 75.2640 - val_root_mean_squared_error: 8.6755\n",
      "\n",
      "Epoch 00024: val_root_mean_squared_error did not improve from 7.28312\n",
      "Epoch 25/100\n",
      "1155/1155 [==============================] - 14s 12ms/step - loss: 47.1365 - root_mean_squared_error: 6.8629 - val_loss: 55.0831 - val_root_mean_squared_error: 7.4218\n",
      "\n",
      "Epoch 00025: val_root_mean_squared_error did not improve from 7.28312\n",
      "Epoch 26/100\n",
      "1155/1155 [==============================] - 13s 11ms/step - loss: 49.8233 - root_mean_squared_error: 7.0532 - val_loss: 66.5917 - val_root_mean_squared_error: 8.1604\n",
      "\n",
      "Epoch 00026: val_root_mean_squared_error did not improve from 7.28312\n",
      "Epoch 27/100\n",
      "1155/1155 [==============================] - 14s 12ms/step - loss: 45.7838 - root_mean_squared_error: 6.7644 - val_loss: 78.9293 - val_root_mean_squared_error: 8.8842\n",
      "\n",
      "Epoch 00027: val_root_mean_squared_error did not improve from 7.28312\n",
      "Epoch 28/100\n",
      "1155/1155 [==============================] - 14s 12ms/step - loss: 49.1355 - root_mean_squared_error: 7.0072 - val_loss: 52.3927 - val_root_mean_squared_error: 7.2383\n",
      "\n",
      "Epoch 00028: val_root_mean_squared_error improved from 7.28312 to 7.23828, saving model to chk_points\\\n",
      "Epoch 29/100\n",
      "1155/1155 [==============================] - 16s 14ms/step - loss: 46.7058 - root_mean_squared_error: 6.8311 - val_loss: 59.3028 - val_root_mean_squared_error: 7.7008\n",
      "\n",
      "Epoch 00029: val_root_mean_squared_error did not improve from 7.23828\n",
      "Epoch 30/100\n",
      "1155/1155 [==============================] - 13s 11ms/step - loss: 45.5385 - root_mean_squared_error: 6.7448 - val_loss: 60.3886 - val_root_mean_squared_error: 7.7710\n",
      "\n",
      "Epoch 00030: val_root_mean_squared_error did not improve from 7.23828\n",
      "Epoch 31/100\n",
      "1155/1155 [==============================] - 16s 14ms/step - loss: 45.6915 - root_mean_squared_error: 6.7576 - val_loss: 53.5436 - val_root_mean_squared_error: 7.3173\n",
      "\n",
      "Epoch 00031: val_root_mean_squared_error did not improve from 7.23828\n",
      "Epoch 32/100\n"
     ]
    },
    {
     "name": "stdout",
     "output_type": "stream",
     "text": [
      "1155/1155 [==============================] - 16s 14ms/step - loss: 46.4935 - root_mean_squared_error: 6.8152 - val_loss: 57.9111 - val_root_mean_squared_error: 7.6099\n",
      "\n",
      "Epoch 00032: val_root_mean_squared_error did not improve from 7.23828\n",
      "Epoch 33/100\n",
      "1155/1155 [==============================] - 15s 13ms/step - loss: 44.6052 - root_mean_squared_error: 6.6769 - val_loss: 59.3824 - val_root_mean_squared_error: 7.7060\n",
      "\n",
      "Epoch 00033: val_root_mean_squared_error did not improve from 7.23828\n",
      "Epoch 34/100\n",
      "1155/1155 [==============================] - 18s 15ms/step - loss: 45.0051 - root_mean_squared_error: 6.7074 - val_loss: 49.2987 - val_root_mean_squared_error: 7.0213\n",
      "\n",
      "Epoch 00034: val_root_mean_squared_error improved from 7.23828 to 7.02131, saving model to chk_points\\\n",
      "Epoch 35/100\n",
      "1155/1155 [==============================] - 14s 12ms/step - loss: 45.5391 - root_mean_squared_error: 6.7455 - val_loss: 50.5400 - val_root_mean_squared_error: 7.1092\n",
      "\n",
      "Epoch 00035: val_root_mean_squared_error did not improve from 7.02131\n",
      "Epoch 36/100\n",
      "1155/1155 [==============================] - 13s 11ms/step - loss: 44.4525 - root_mean_squared_error: 6.6646 - val_loss: 51.4352 - val_root_mean_squared_error: 7.1718\n",
      "\n",
      "Epoch 00036: val_root_mean_squared_error did not improve from 7.02131\n",
      "Epoch 37/100\n",
      "1155/1155 [==============================] - 12s 10ms/step - loss: 46.4561 - root_mean_squared_error: 6.8140 - val_loss: 69.0695 - val_root_mean_squared_error: 8.3108\n",
      "\n",
      "Epoch 00037: val_root_mean_squared_error did not improve from 7.02131\n",
      "Epoch 38/100\n",
      "1155/1155 [==============================] - 12s 11ms/step - loss: 44.0998 - root_mean_squared_error: 6.6399 - val_loss: 53.7531 - val_root_mean_squared_error: 7.3316\n",
      "\n",
      "Epoch 00038: val_root_mean_squared_error did not improve from 7.02131\n",
      "Epoch 39/100\n",
      "1155/1155 [==============================] - 12s 10ms/step - loss: 43.6130 - root_mean_squared_error: 6.6022 - val_loss: 51.7456 - val_root_mean_squared_error: 7.1934\n",
      "\n",
      "Epoch 00039: val_root_mean_squared_error did not improve from 7.02131\n",
      "Epoch 40/100\n",
      "1155/1155 [==============================] - 16s 14ms/step - loss: 45.4687 - root_mean_squared_error: 6.7391 - val_loss: 54.9961 - val_root_mean_squared_error: 7.4159\n",
      "\n",
      "Epoch 00040: val_root_mean_squared_error did not improve from 7.02131\n",
      "Epoch 41/100\n",
      "1155/1155 [==============================] - 15s 13ms/step - loss: 43.0493 - root_mean_squared_error: 6.5515 - val_loss: 57.1811 - val_root_mean_squared_error: 7.5618\n",
      "\n",
      "Epoch 00041: val_root_mean_squared_error did not improve from 7.02131\n",
      "Epoch 42/100\n",
      "1155/1155 [==============================] - 13s 11ms/step - loss: 44.2393 - root_mean_squared_error: 6.6486 - val_loss: 51.4309 - val_root_mean_squared_error: 7.1715\n",
      "\n",
      "Epoch 00042: val_root_mean_squared_error did not improve from 7.02131\n",
      "Epoch 43/100\n",
      "1155/1155 [==============================] - 14s 12ms/step - loss: 43.0246 - root_mean_squared_error: 6.5575 - val_loss: 50.4779 - val_root_mean_squared_error: 7.1048\n",
      "\n",
      "Epoch 00043: val_root_mean_squared_error did not improve from 7.02131\n",
      "Epoch 44/100\n",
      "1155/1155 [==============================] - 17s 15ms/step - loss: 43.6701 - root_mean_squared_error: 6.6058 - val_loss: 59.1276 - val_root_mean_squared_error: 7.6894\n",
      "\n",
      "Epoch 00044: val_root_mean_squared_error did not improve from 7.02131\n",
      "Epoch 45/100\n",
      "1155/1155 [==============================] - 12s 10ms/step - loss: 43.1173 - root_mean_squared_error: 6.5636 - val_loss: 59.7261 - val_root_mean_squared_error: 7.7283\n",
      "\n",
      "Epoch 00045: val_root_mean_squared_error did not improve from 7.02131\n",
      "Epoch 46/100\n",
      "1155/1155 [==============================] - 13s 11ms/step - loss: 42.1412 - root_mean_squared_error: 6.4885 - val_loss: 52.1825 - val_root_mean_squared_error: 7.2237\n",
      "\n",
      "Epoch 00046: val_root_mean_squared_error did not improve from 7.02131\n",
      "Epoch 47/100\n",
      "1155/1155 [==============================] - 12s 10ms/step - loss: 42.7094 - root_mean_squared_error: 6.5340 - val_loss: 67.5145 - val_root_mean_squared_error: 8.2167\n",
      "\n",
      "Epoch 00047: val_root_mean_squared_error did not improve from 7.02131\n",
      "Epoch 48/100\n",
      "1155/1155 [==============================] - 11s 10ms/step - loss: 43.8386 - root_mean_squared_error: 6.6189 - val_loss: 52.3266 - val_root_mean_squared_error: 7.2337\n",
      "\n",
      "Epoch 00048: val_root_mean_squared_error did not improve from 7.02131\n",
      "Epoch 49/100\n",
      "1155/1155 [==============================] - 11s 10ms/step - loss: 42.9854 - root_mean_squared_error: 6.5491 - val_loss: 61.8667 - val_root_mean_squared_error: 7.8655\n",
      "\n",
      "Epoch 00049: val_root_mean_squared_error did not improve from 7.02131\n",
      "Epoch 50/100\n",
      "1155/1155 [==============================] - 11s 10ms/step - loss: 41.1724 - root_mean_squared_error: 6.4093 - val_loss: 76.7787 - val_root_mean_squared_error: 8.7623\n",
      "\n",
      "Epoch 00050: val_root_mean_squared_error did not improve from 7.02131\n",
      "Epoch 51/100\n",
      "1155/1155 [==============================] - 11s 10ms/step - loss: 44.5622 - root_mean_squared_error: 6.6731 - val_loss: 48.2728 - val_root_mean_squared_error: 6.9479\n",
      "\n",
      "Epoch 00051: val_root_mean_squared_error improved from 7.02131 to 6.94787, saving model to chk_points\\\n",
      "Epoch 52/100\n",
      "1155/1155 [==============================] - 11s 10ms/step - loss: 40.3805 - root_mean_squared_error: 6.3508 - val_loss: 52.5788 - val_root_mean_squared_error: 7.2511\n",
      "\n",
      "Epoch 00052: val_root_mean_squared_error did not improve from 6.94787\n",
      "Epoch 53/100\n",
      "1155/1155 [==============================] - 11s 10ms/step - loss: 43.4462 - root_mean_squared_error: 6.5877 - val_loss: 86.2734 - val_root_mean_squared_error: 9.2883\n",
      "\n",
      "Epoch 00053: val_root_mean_squared_error did not improve from 6.94787\n",
      "Epoch 54/100\n",
      "1155/1155 [==============================] - 11s 10ms/step - loss: 43.2461 - root_mean_squared_error: 6.5719 - val_loss: 48.9451 - val_root_mean_squared_error: 6.9961\n",
      "\n",
      "Epoch 00054: val_root_mean_squared_error did not improve from 6.94787\n",
      "Epoch 55/100\n",
      "1155/1155 [==============================] - 11s 10ms/step - loss: 42.9179 - root_mean_squared_error: 6.5489 - val_loss: 62.6913 - val_root_mean_squared_error: 7.9178\n",
      "\n",
      "Epoch 00055: val_root_mean_squared_error did not improve from 6.94787\n",
      "Epoch 56/100\n",
      "1155/1155 [==============================] - 11s 10ms/step - loss: 43.2474 - root_mean_squared_error: 6.5739 - val_loss: 51.8348 - val_root_mean_squared_error: 7.1996\n",
      "\n",
      "Epoch 00056: val_root_mean_squared_error did not improve from 6.94787\n",
      "Epoch 57/100\n",
      "1155/1155 [==============================] - 11s 10ms/step - loss: 40.7596 - root_mean_squared_error: 6.3807 - val_loss: 54.9456 - val_root_mean_squared_error: 7.4125\n",
      "\n",
      "Epoch 00057: val_root_mean_squared_error did not improve from 6.94787\n",
      "Epoch 58/100\n",
      "1155/1155 [==============================] - 12s 10ms/step - loss: 41.2971 - root_mean_squared_error: 6.4237 - val_loss: 56.5755 - val_root_mean_squared_error: 7.5217\n",
      "\n",
      "Epoch 00058: val_root_mean_squared_error did not improve from 6.94787\n",
      "Epoch 59/100\n",
      "1155/1155 [==============================] - 12s 10ms/step - loss: 41.6968 - root_mean_squared_error: 6.4519 - val_loss: 50.8163 - val_root_mean_squared_error: 7.1286\n",
      "\n",
      "Epoch 00059: val_root_mean_squared_error did not improve from 6.94787\n",
      "Epoch 60/100\n",
      "1155/1155 [==============================] - 11s 10ms/step - loss: 44.9741 - root_mean_squared_error: 6.7007 - val_loss: 53.7240 - val_root_mean_squared_error: 7.3297\n",
      "\n",
      "Epoch 00060: val_root_mean_squared_error did not improve from 6.94787\n",
      "Epoch 61/100\n",
      "1155/1155 [==============================] - 14s 12ms/step - loss: 39.9454 - root_mean_squared_error: 6.3091 - val_loss: 48.9773 - val_root_mean_squared_error: 6.9984\n",
      "\n",
      "Epoch 00061: val_root_mean_squared_error did not improve from 6.94787\n",
      "Epoch 62/100\n",
      "1155/1155 [==============================] - 17s 14ms/step - loss: 42.2417 - root_mean_squared_error: 6.4966 - val_loss: 53.4157 - val_root_mean_squared_error: 7.3086\n",
      "\n",
      "Epoch 00062: val_root_mean_squared_error did not improve from 6.94787\n",
      "Epoch 63/100\n",
      "1155/1155 [==============================] - 12s 11ms/step - loss: 39.8564 - root_mean_squared_error: 6.3047 - val_loss: 56.2469 - val_root_mean_squared_error: 7.4998\n",
      "\n",
      "Epoch 00063: val_root_mean_squared_error did not improve from 6.94787\n",
      "Epoch 64/100\n"
     ]
    },
    {
     "name": "stdout",
     "output_type": "stream",
     "text": [
      "1155/1155 [==============================] - 14s 12ms/step - loss: 43.0305 - root_mean_squared_error: 6.5574 - val_loss: 56.6467 - val_root_mean_squared_error: 7.5264\n",
      "\n",
      "Epoch 00064: val_root_mean_squared_error did not improve from 6.94787\n",
      "Epoch 65/100\n",
      "1155/1155 [==============================] - 14s 12ms/step - loss: 41.1220 - root_mean_squared_error: 6.4057 - val_loss: 49.0737 - val_root_mean_squared_error: 7.0053\n",
      "\n",
      "Epoch 00065: val_root_mean_squared_error did not improve from 6.94787\n",
      "Epoch 66/100\n",
      "1155/1155 [==============================] - 16s 14ms/step - loss: 40.8326 - root_mean_squared_error: 6.3875 - val_loss: 51.5768 - val_root_mean_squared_error: 7.1817\n",
      "\n",
      "Epoch 00066: val_root_mean_squared_error did not improve from 6.94787\n",
      "Epoch 67/100\n",
      "1155/1155 [==============================] - 14s 12ms/step - loss: 41.7976 - root_mean_squared_error: 6.4628 - val_loss: 49.4354 - val_root_mean_squared_error: 7.0310\n",
      "\n",
      "Epoch 00067: val_root_mean_squared_error did not improve from 6.94787\n",
      "Epoch 68/100\n",
      "1155/1155 [==============================] - 16s 14ms/step - loss: 43.1971 - root_mean_squared_error: 6.5703 - val_loss: 60.6389 - val_root_mean_squared_error: 7.7871\n",
      "\n",
      "Epoch 00068: val_root_mean_squared_error did not improve from 6.94787\n",
      "Epoch 69/100\n",
      "1155/1155 [==============================] - 14s 12ms/step - loss: 42.8649 - root_mean_squared_error: 6.5451 - val_loss: 49.2488 - val_root_mean_squared_error: 7.0178\n",
      "\n",
      "Epoch 00069: val_root_mean_squared_error did not improve from 6.94787\n",
      "Epoch 70/100\n",
      "1155/1155 [==============================] - 11s 10ms/step - loss: 41.8991 - root_mean_squared_error: 6.4686 - val_loss: 53.3525 - val_root_mean_squared_error: 7.3043\n",
      "\n",
      "Epoch 00070: val_root_mean_squared_error did not improve from 6.94787\n",
      "Epoch 71/100\n",
      "1155/1155 [==============================] - 12s 10ms/step - loss: 40.2036 - root_mean_squared_error: 6.3380 - val_loss: 54.7592 - val_root_mean_squared_error: 7.3999\n",
      "\n",
      "Epoch 00071: val_root_mean_squared_error did not improve from 6.94787\n",
      "Epoch 72/100\n",
      "1155/1155 [==============================] - 13s 11ms/step - loss: 39.2306 - root_mean_squared_error: 6.2585 - val_loss: 50.0010 - val_root_mean_squared_error: 7.0711\n",
      "\n",
      "Epoch 00072: val_root_mean_squared_error did not improve from 6.94787\n",
      "Epoch 73/100\n",
      "1155/1155 [==============================] - 14s 12ms/step - loss: 39.5688 - root_mean_squared_error: 6.2855 - val_loss: 54.6876 - val_root_mean_squared_error: 7.3951\n",
      "\n",
      "Epoch 00073: val_root_mean_squared_error did not improve from 6.94787\n",
      "Epoch 74/100\n",
      "1155/1155 [==============================] - 14s 12ms/step - loss: 42.1115 - root_mean_squared_error: 6.4863 - val_loss: 49.2873 - val_root_mean_squared_error: 7.0205\n",
      "\n",
      "Epoch 00074: val_root_mean_squared_error did not improve from 6.94787\n",
      "Epoch 75/100\n",
      "1155/1155 [==============================] - 15s 13ms/step - loss: 42.4022 - root_mean_squared_error: 6.5100 - val_loss: 60.6410 - val_root_mean_squared_error: 7.7872\n",
      "\n",
      "Epoch 00075: val_root_mean_squared_error did not improve from 6.94787\n",
      "Epoch 76/100\n",
      "1155/1155 [==============================] - 12s 11ms/step - loss: 42.5415 - root_mean_squared_error: 6.5190 - val_loss: 51.7189 - val_root_mean_squared_error: 7.1916\n",
      "\n",
      "Epoch 00076: val_root_mean_squared_error did not improve from 6.94787\n",
      "Epoch 77/100\n",
      "1155/1155 [==============================] - 13s 11ms/step - loss: 41.8451 - root_mean_squared_error: 6.4585 - val_loss: 52.3208 - val_root_mean_squared_error: 7.2333\n",
      "\n",
      "Epoch 00077: val_root_mean_squared_error did not improve from 6.94787\n",
      "Epoch 78/100\n",
      "1155/1155 [==============================] - 12s 10ms/step - loss: 42.2923 - root_mean_squared_error: 6.5005 - val_loss: 47.9180 - val_root_mean_squared_error: 6.9223\n",
      "\n",
      "Epoch 00078: val_root_mean_squared_error improved from 6.94787 to 6.92228, saving model to chk_points\\\n",
      "Epoch 79/100\n",
      "1155/1155 [==============================] - 12s 10ms/step - loss: 42.9745 - root_mean_squared_error: 6.5501 - val_loss: 50.6425 - val_root_mean_squared_error: 7.1164\n",
      "\n",
      "Epoch 00079: val_root_mean_squared_error did not improve from 6.92228\n",
      "Epoch 80/100\n",
      "1155/1155 [==============================] - 13s 11ms/step - loss: 38.9593 - root_mean_squared_error: 6.2393 - val_loss: 51.4299 - val_root_mean_squared_error: 7.1715\n",
      "\n",
      "Epoch 00080: val_root_mean_squared_error did not improve from 6.92228\n",
      "Epoch 81/100\n",
      "1155/1155 [==============================] - 13s 11ms/step - loss: 38.5022 - root_mean_squared_error: 6.2022 - val_loss: 55.2569 - val_root_mean_squared_error: 7.4335\n",
      "\n",
      "Epoch 00081: val_root_mean_squared_error did not improve from 6.92228\n",
      "Epoch 82/100\n",
      "1155/1155 [==============================] - 12s 11ms/step - loss: 41.1192 - root_mean_squared_error: 6.4113 - val_loss: 55.9622 - val_root_mean_squared_error: 7.4808\n",
      "\n",
      "Epoch 00082: val_root_mean_squared_error did not improve from 6.92228\n",
      "Epoch 83/100\n",
      "1155/1155 [==============================] - 13s 12ms/step - loss: 41.9389 - root_mean_squared_error: 6.4742 - val_loss: 48.0890 - val_root_mean_squared_error: 6.9346\n",
      "\n",
      "Epoch 00083: val_root_mean_squared_error did not improve from 6.92228\n",
      "Epoch 84/100\n",
      "1155/1155 [==============================] - 14s 12ms/step - loss: 40.2373 - root_mean_squared_error: 6.3387 - val_loss: 108.0664 - val_root_mean_squared_error: 10.3955\n",
      "\n",
      "Epoch 00084: val_root_mean_squared_error did not improve from 6.92228\n",
      "Epoch 85/100\n",
      "1155/1155 [==============================] - 12s 10ms/step - loss: 41.5256 - root_mean_squared_error: 6.4384 - val_loss: 49.9930 - val_root_mean_squared_error: 7.0706\n",
      "\n",
      "Epoch 00085: val_root_mean_squared_error did not improve from 6.92228\n",
      "Epoch 86/100\n",
      "1155/1155 [==============================] - 12s 11ms/step - loss: 40.8563 - root_mean_squared_error: 6.3855 - val_loss: 53.8396 - val_root_mean_squared_error: 7.3375\n",
      "\n",
      "Epoch 00086: val_root_mean_squared_error did not improve from 6.92228\n",
      "Epoch 87/100\n",
      "1155/1155 [==============================] - 15s 13ms/step - loss: 38.0159 - root_mean_squared_error: 6.1581 - val_loss: 49.0140 - val_root_mean_squared_error: 7.0010\n",
      "\n",
      "Epoch 00087: val_root_mean_squared_error did not improve from 6.92228\n",
      "Epoch 88/100\n",
      "1155/1155 [==============================] - 14s 12ms/step - loss: 43.8161 - root_mean_squared_error: 6.6080 - val_loss: 53.5265 - val_root_mean_squared_error: 7.3162\n",
      "\n",
      "Epoch 00088: val_root_mean_squared_error did not improve from 6.92228\n",
      "Epoch 89/100\n",
      "1155/1155 [==============================] - 11s 10ms/step - loss: 37.5253 - root_mean_squared_error: 6.1212 - val_loss: 57.5384 - val_root_mean_squared_error: 7.5854\n",
      "\n",
      "Epoch 00089: val_root_mean_squared_error did not improve from 6.92228\n",
      "Epoch 90/100\n",
      "1155/1155 [==============================] - 12s 10ms/step - loss: 38.7335 - root_mean_squared_error: 6.2162 - val_loss: 58.3705 - val_root_mean_squared_error: 7.6401\n",
      "\n",
      "Epoch 00090: val_root_mean_squared_error did not improve from 6.92228\n",
      "Epoch 91/100\n",
      "1155/1155 [==============================] - 15s 13ms/step - loss: 40.5933 - root_mean_squared_error: 6.3697 - val_loss: 51.0263 - val_root_mean_squared_error: 7.1433\n",
      "\n",
      "Epoch 00091: val_root_mean_squared_error did not improve from 6.92228\n",
      "Epoch 92/100\n",
      "1155/1155 [==============================] - 14s 12ms/step - loss: 40.4450 - root_mean_squared_error: 6.3569 - val_loss: 55.1265 - val_root_mean_squared_error: 7.4247\n",
      "\n",
      "Epoch 00092: val_root_mean_squared_error did not improve from 6.92228\n",
      "Epoch 93/100\n",
      "1155/1155 [==============================] - 12s 10ms/step - loss: 41.3694 - root_mean_squared_error: 6.4294 - val_loss: 49.6628 - val_root_mean_squared_error: 7.0472\n",
      "\n",
      "Epoch 00093: val_root_mean_squared_error did not improve from 6.92228\n",
      "Epoch 94/100\n",
      "1155/1155 [==============================] - 11s 10ms/step - loss: 42.0044 - root_mean_squared_error: 6.4757 - val_loss: 50.8812 - val_root_mean_squared_error: 7.1331\n",
      "\n",
      "Epoch 00094: val_root_mean_squared_error did not improve from 6.92228\n",
      "Epoch 95/100\n",
      "1155/1155 [==============================] - 19s 16ms/step - loss: 39.8000 - root_mean_squared_error: 6.3038 - val_loss: 54.5313 - val_root_mean_squared_error: 7.3845\n",
      "\n",
      "Epoch 00095: val_root_mean_squared_error did not improve from 6.92228\n",
      "Epoch 96/100\n",
      "1155/1155 [==============================] - 16s 14ms/step - loss: 39.7018 - root_mean_squared_error: 6.2955 - val_loss: 51.6592 - val_root_mean_squared_error: 7.1874\n"
     ]
    },
    {
     "name": "stdout",
     "output_type": "stream",
     "text": [
      "\n",
      "Epoch 00096: val_root_mean_squared_error did not improve from 6.92228\n",
      "Epoch 97/100\n",
      "1155/1155 [==============================] - 13s 11ms/step - loss: 40.0788 - root_mean_squared_error: 6.3284 - val_loss: 52.5739 - val_root_mean_squared_error: 7.2508\n",
      "\n",
      "Epoch 00097: val_root_mean_squared_error did not improve from 6.92228\n",
      "Epoch 98/100\n",
      "1155/1155 [==============================] - 13s 11ms/step - loss: 40.6778 - root_mean_squared_error: 6.3757 - val_loss: 48.0450 - val_root_mean_squared_error: 6.9314\n",
      "\n",
      "Epoch 00098: val_root_mean_squared_error did not improve from 6.92228\n",
      "Epoch 99/100\n",
      "1155/1155 [==============================] - 14s 12ms/step - loss: 41.7124 - root_mean_squared_error: 6.4563 - val_loss: 52.3591 - val_root_mean_squared_error: 7.2360\n",
      "\n",
      "Epoch 00099: val_root_mean_squared_error did not improve from 6.92228\n",
      "Epoch 100/100\n",
      "1155/1155 [==============================] - 12s 10ms/step - loss: 38.9021 - root_mean_squared_error: 6.2352 - val_loss: 54.2363 - val_root_mean_squared_error: 7.3645\n",
      "\n",
      "Epoch 00100: val_root_mean_squared_error did not improve from 6.92228\n"
     ]
    },
    {
     "data": {
      "text/plain": [
       "<tensorflow.python.training.tracking.util.CheckpointLoadStatus at 0x2574c47b100>"
      ]
     },
     "execution_count": 41,
     "metadata": {},
     "output_type": "execute_result"
    }
   ],
   "source": [
    "# log_dir = \"logs/fit/\" + datetime.datetime.now().strftime(\"%Y%m%d-%H%M%S\")\n",
    "# tensorboard_callback = tf.keras.callbacks.TensorBoard(log_dir=log_dir, histogram_freq=1)\n",
    "checkpoint_filepath = 'chk_points/'\n",
    "model_checkpoint_callback = tf.keras.callbacks.ModelCheckpoint(\n",
    "    filepath=checkpoint_filepath,\n",
    "    monitor='val_root_mean_squared_error',\n",
    "    save_weights_only=True,\n",
    "    save_freq='epoch',\n",
    "    verbose=1,\n",
    "    save_best_only=True)\n",
    "\n",
    "\n",
    "history = model.fit(train_dataset, validation_data=test_dataset, epochs=100, callbacks=[model_checkpoint_callback])\n",
    "model.load_weights('chk_points/')"
   ]
  },
  {
   "cell_type": "markdown",
   "id": "manufactured-harbor",
   "metadata": {},
   "source": [
    "## Save Model"
   ]
  },
  {
   "cell_type": "code",
   "execution_count": 42,
   "id": "logical-seeking",
   "metadata": {},
   "outputs": [
    {
     "name": "stdout",
     "output_type": "stream",
     "text": [
      "INFO:tensorflow:Assets written to: models/BarrancoMinas_model_NN\\assets\n"
     ]
    }
   ],
   "source": [
    "model.save('models/{}_model_NN'.format(city))"
   ]
  },
  {
   "cell_type": "markdown",
   "id": "according-bolivia",
   "metadata": {},
   "source": [
    "## Load Model for Testing\n",
    "Use this if you already have saved the model that performed best"
   ]
  },
  {
   "cell_type": "code",
   "execution_count": 343,
   "id": "maritime-november",
   "metadata": {},
   "outputs": [],
   "source": [
    "model = tf.keras.models.load_model('models/{}_model_NN'.format(city))"
   ]
  },
  {
   "cell_type": "markdown",
   "id": "lucky-irrigation",
   "metadata": {},
   "source": [
    "## Metrics"
   ]
  },
  {
   "cell_type": "code",
   "execution_count": 47,
   "id": "decent-annual",
   "metadata": {},
   "outputs": [],
   "source": [
    "def MBE(y_true, y_pred):\n",
    "    '''\n",
    "    Parameters:\n",
    "        y_true (array): Array of observed values\n",
    "        y_pred (array): Array of prediction values\n",
    "\n",
    "    Returns:\n",
    "        mbe (float): Biais score\n",
    "    '''\n",
    "    y_true = np.array(y_true)\n",
    "    y_pred = np.array(y_pred)\n",
    "    y_true = y_true.reshape(len(y_true),1)\n",
    "    y_pred = y_pred.reshape(len(y_pred),1)   \n",
    "    diff = np.abs(y_true-y_pred)\n",
    "    mbe = diff.mean()\n",
    "    return mbe"
   ]
  },
  {
   "cell_type": "code",
   "execution_count": 48,
   "id": "female-particular",
   "metadata": {},
   "outputs": [
    {
     "name": "stdout",
     "output_type": "stream",
     "text": [
      "255/255 [==============================] - 1s 3ms/step - loss: 43.8537 - root_mean_squared_error: 6.6222\n",
      "The Coefficient of determination over the test data is  0.9979814158868292\n",
      "The MBE over the test data is  2.8704056412525834\n",
      "The RMSE metric over the test data is  6.6222100257873535\n"
     ]
    }
   ],
   "source": [
    "rmse = model.evaluate(test_dataset)[1]\n",
    "predictions = model.predict(test_dataset)\n",
    "print(\"The Coefficient of determination over the test data is \", sklearn.metrics.r2_score(test_y, predictions))\n",
    "print(\"The MBE over the test data is \", MBE(test_y, predictions))\n",
    "print('The RMSE metric over the test data is ', rmse )"
   ]
  },
  {
   "cell_type": "code",
   "execution_count": 45,
   "id": "black-experiment",
   "metadata": {},
   "outputs": [
    {
     "data": {
      "image/png": "[encoded data removed]",
      "text/plain": [
       "<Figure size 432x288 with 1 Axes>"
      ]
     },
     "metadata": {
      "needs_background": "light"
     },
     "output_type": "display_data"
    }
   ],
   "source": [
    "plt.figure()\n",
    "plt.rcParams['figure.figsize'] = (11, 9)\n",
    "plt.plot(predictions[0:144],'--r', label='predictions', linewidth=2)\n",
    "plt.plot(test_y[0:144],'-.b', label='True values', linewidth=2)\n",
    "plt.legend(loc='upper left', fontsize=15)\n",
    "plt.xlabel(\"Time[$30min$]\", fontsize=15)\n",
    "plt.xticks(size=15)\n",
    "plt.ylabel(\"DHI $[kWh/m^2]$\", fontsize=15)\n",
    "plt.yticks(size=15)\n",
    "plt.title('Difuse Horizontal Radiation with ANN over 72 hours', fontsize=15)\n",
    "plt.savefig('img/DHI_72hours_{}.png'.format(city))\n",
    "plt.show()"
   ]
  },
  {
   "cell_type": "markdown",
   "id": "growing-complaint",
   "metadata": {},
   "source": [
    "### All Metrics of ANN models"
   ]
  },
  {
   "cell_type": "code",
   "execution_count": 52,
   "id": "driven-coral",
   "metadata": {},
   "outputs": [
    {
     "name": "stdout",
     "output_type": "stream",
     "text": [
      "258/258 [==============================] - 1s 3ms/step - loss: 47.9180 - root_mean_squared_error: 6.9223\n",
      "BarrancoMinas\n",
      "The Coefficient of determination over the test data is  0.9977370724067199\n",
      "The MBE over the test data is  3.063739845250919\n",
      "The RMSE metric over the test data is  6.9222846031188965\n",
      "254/254 [==============================] - 1s 3ms/step - loss: 40.2640 - root_mean_squared_error: 6.3454\n",
      "Bogota\n",
      "The Coefficient of determination over the test data is  0.9981802784116576\n",
      "The MBE over the test data is  2.696437372930081\n",
      "The RMSE metric over the test data is  6.345394134521484\n",
      "257/257 [==============================] - 1s 3ms/step - loss: 49.0937 - root_mean_squared_error: 7.0067\n",
      "Caruru\n",
      "The Coefficient of determination over the test data is  0.997769766558083\n",
      "The MBE over the test data is  3.1310229560849265\n",
      "The RMSE metric over the test data is  7.006692409515381\n",
      "259/259 [==============================] - 1s 4ms/step - loss: 38.5305 - root_mean_squared_error: 6.2073\n",
      "Chajal\n",
      "The Coefficient of determination over the test data is  0.9981619138338377\n",
      "The MBE over the test data is  2.6189496809313693\n",
      "The RMSE metric over the test data is  6.207290172576904\n",
      "254/254 [==============================] - 1s 3ms/step - loss: 40.3104 - root_mean_squared_error: 6.3491\n",
      "Sipi\n",
      "The Coefficient of determination over the test data is  0.9981781811542123\n",
      "The MBE over the test data is  2.7263622692342504\n",
      "The RMSE metric over the test data is  6.349050998687744\n",
      "255/255 [==============================] - 1s 3ms/step - loss: 43.8537 - root_mean_squared_error: 6.6222\n",
      "PuertoMerizalde\n",
      "The Coefficient of determination over the test data is  0.9979814158868292\n",
      "The MBE over the test data is  2.8704056412525834\n",
      "The RMSE metric over the test data is  6.6222100257873535\n"
     ]
    }
   ],
   "source": [
    "for city_perm in cities:\n",
    "    train_x, train_y, test_x, test_y, train_dataset, test_dataset = load_csv(city_perm, True)\n",
    "    model = tf.keras.models.load_model('models/{}_model_NN'.format(city_perm))\n",
    "    predictions_ = model.predict(test_x)\n",
    "    rmse_ = model.evaluate(test_dataset)[1]\n",
    "    print(city_perm)\n",
    "    print(\"The Coefficient of determination over the test data is \", sklearn.metrics.r2_score(test_y, predictions_))\n",
    "    print(\"The MBE over the test data is \", MBE(test_y, predictions_))\n",
    "    print('The RMSE metric over the test data is ', rmse_ )"
   ]
  },
  {
   "cell_type": "markdown",
   "id": "attempted-fancy",
   "metadata": {},
   "source": [
    "## Feature Importance"
   ]
  },
  {
   "cell_type": "code",
   "execution_count": 27,
   "id": "increased-biography",
   "metadata": {},
   "outputs": [
    {
     "name": "stdout",
     "output_type": "stream",
     "text": [
      "1155/1155 [==============================] - 3s 3ms/step - loss: 12640.3486 - root_mean_squared_error: 112.4293\n",
      "1155/1155 [==============================] - 3s 3ms/step - loss: 26753.2188 - root_mean_squared_error: 163.5641\n",
      "1155/1155 [==============================] - 3s 3ms/step - loss: 14217.4414 - root_mean_squared_error: 119.2369\n",
      "1155/1155 [==============================] - 3s 3ms/step - loss: 15880.3418 - root_mean_squared_error: 126.0172\n",
      "1155/1155 [==============================] - 3s 3ms/step - loss: 37281.3984 - root_mean_squared_error: 193.0839\n",
      "1155/1155 [==============================] - 3s 3ms/step - loss: 12124.1621 - root_mean_squared_error: 110.1098\n",
      "1155/1155 [==============================] - 3s 3ms/step - loss: 15219.0361 - root_mean_squared_error: 123.3655A: 1s - loss: 15044.9316 - root_\n",
      "1155/1155 [==============================] - 3s 3ms/step - loss: 35285.4727 - root_mean_squared_error: 187.8443\n",
      "1155/1155 [==============================] - 3s 3ms/step - loss: 13053.6758 - root_mean_squared_error: 114.2527\n"
     ]
    },
    {
     "data": {
      "image/png": "[encoded data removed]",
      "text/plain": [
       "<Figure size 432x288 with 1 Axes>"
      ]
     },
     "metadata": {
      "needs_background": "light"
     },
     "output_type": "display_data"
    },
    {
     "name": "stdout",
     "output_type": "stream",
     "text": [
      "1129/1129 [==============================] - 3s 3ms/step - loss: 376.8620 - root_mean_squared_error: 19.4129\n",
      "1129/1129 [==============================] - 3s 3ms/step - loss: 32638.5898 - root_mean_squared_error: 180.6615\n",
      "1129/1129 [==============================] - 3s 3ms/step - loss: 12413.5322 - root_mean_squared_error: 111.4160\n",
      "1129/1129 [==============================] - 3s 3ms/step - loss: 1869.1492 - root_mean_squared_error: 43.2337A: 0s - loss: 1863.5898 - root_mean_sq\n",
      "1129/1129 [==============================] - 3s 3ms/step - loss: 8634.8770 - root_mean_squared_error: 92.9240\n",
      "1129/1129 [==============================] - 3s 3ms/step - loss: 188.3330 - root_mean_squared_error: 13.7234\n",
      "1129/1129 [==============================] - 3s 3ms/step - loss: 17011.7012 - root_mean_squared_error: 130.4289\n",
      "1129/1129 [==============================] - 3s 3ms/step - loss: 10514.2656 - root_mean_squared_error: 102.5391A: 2s - loss: 10432.\n",
      "1129/1129 [==============================] - 3s 3ms/step - loss: 36.0205 - root_mean_squared_error: 6.0017\n"
     ]
    },
    {
     "data": {
      "image/png": "[encoded data removed]",
      "text/plain": [
       "<Figure size 432x288 with 1 Axes>"
      ]
     },
     "metadata": {
      "needs_background": "light"
     },
     "output_type": "display_data"
    },
    {
     "name": "stdout",
     "output_type": "stream",
     "text": [
      "1146/1146 [==============================] - 3s 3ms/step - loss: 510.9850 - root_mean_squared_error: 22.6050\n",
      "1146/1146 [==============================] - 3s 3ms/step - loss: 135417.2188 - root_mean_squared_error: 367.9908\n",
      "1146/1146 [==============================] - 3s 3ms/step - loss: 17102.7207 - root_mean_squared_error: 130.7774\n",
      "1146/1146 [==============================] - 3s 3ms/step - loss: 1699.3074 - root_mean_squared_error: 41.2227\n",
      "1146/1146 [==============================] - 3s 3ms/step - loss: 24002.4082 - root_mean_squared_error: 154.9271\n",
      "1146/1146 [==============================] - 3s 3ms/step - loss: 256.1193 - root_mean_squared_error: 16.0037\n",
      "1146/1146 [==============================] - 3s 3ms/step - loss: 60626.3711 - root_mean_squared_error: 246.2242\n",
      "1146/1146 [==============================] - 3s 3ms/step - loss: 23127.0879 - root_mean_squared_error: 152.0759\n",
      "1146/1146 [==============================] - 3s 3ms/step - loss: 41.8337 - root_mean_squared_error: 6.4679\n"
     ]
    },
    {
     "data": {
      "image/png": "[encoded data removed]",
      "text/plain": [
       "<Figure size 432x288 with 1 Axes>"
      ]
     },
     "metadata": {
      "needs_background": "light"
     },
     "output_type": "display_data"
    },
    {
     "name": "stdout",
     "output_type": "stream",
     "text": [
      "1150/1150 [==============================] - 3s 3ms/step - loss: 430.7323 - root_mean_squared_error: 20.7541\n",
      "1150/1150 [==============================] - 3s 3ms/step - loss: 28505.5078 - root_mean_squared_error: 168.8357\n",
      "1150/1150 [==============================] - 3s 3ms/step - loss: 17285.2598 - root_mean_squared_error: 131.4734\n",
      "1150/1150 [==============================] - 3s 3ms/step - loss: 2444.6230 - root_mean_squared_error: 49.4431A: 0s - loss: 2320.7803 - root_mean_squared_error:\n",
      "1150/1150 [==============================] - 3s 3ms/step - loss: 3884.3337 - root_mean_squared_error: 62.3244\n",
      "1150/1150 [==============================] - 3s 3ms/step - loss: 161.7011 - root_mean_squared_error: 12.7162\n",
      "1150/1150 [==============================] - 3s 3ms/step - loss: 9373.9463 - root_mean_squared_error: 96.8191A: 0s - loss: 9034.2139 - root_mean_squa\n",
      "1150/1150 [==============================] - 3s 3ms/step - loss: 4029.1763 - root_mean_squared_error: 63.4758\n",
      "1150/1150 [==============================] - 3s 3ms/step - loss: 34.2830 - root_mean_squared_error: 5.8552\n"
     ]
    },
    {
     "data": {
      "image/png": "[encoded data removed]",
      "text/plain": [
       "<Figure size 432x288 with 1 Axes>"
      ]
     },
     "metadata": {
      "needs_background": "light"
     },
     "output_type": "display_data"
    },
    {
     "name": "stdout",
     "output_type": "stream",
     "text": [
      "1129/1129 [==============================] - 3s 3ms/step - loss: 602.6935 - root_mean_squared_error: 24.5498: 1s - loss: 6\n",
      "1129/1129 [==============================] - 3s 3ms/step - loss: 43736.7773 - root_mean_squared_error: 209.1334\n",
      "1129/1129 [==============================] - 4s 3ms/step - loss: 12289.6807 - root_mean_squared_error: 110.8588\n",
      "1129/1129 [==============================] - 3s 3ms/step - loss: 2197.4297 - root_mean_squared_error: 46.8768\n",
      "1129/1129 [==============================] - 3s 3ms/step - loss: 41780.7148 - root_mean_squared_error: 204.4033\n",
      "1129/1129 [==============================] - 3s 3ms/step - loss: 180.5520 - root_mean_squared_error: 13.4370\n",
      "1129/1129 [==============================] - 4s 4ms/step - loss: 22802.9922 - root_mean_squared_error: 151.0066\n",
      "1129/1129 [==============================] - 4s 4ms/step - loss: 39507.0117 - root_mean_squared_error: 198.7637\n",
      "1129/1129 [==============================] - 4s 3ms/step - loss: 37.0359 - root_mean_squared_error: 6.0857\n"
     ]
    },
    {
     "data": {
      "image/png": "[encoded data removed]",
      "text/plain": [
       "<Figure size 432x288 with 1 Axes>"
      ]
     },
     "metadata": {
      "needs_background": "light"
     },
     "output_type": "display_data"
    },
    {
     "name": "stdout",
     "output_type": "stream",
     "text": [
      "1130/1130 [==============================] - 3s 3ms/step - loss: 500.3116 - root_mean_squared_error: 22.3676\n",
      "1130/1130 [==============================] - 3s 3ms/step - loss: 25017.5312 - root_mean_squared_error: 158.1693\n",
      "1130/1130 [==============================] - 4s 3ms/step - loss: 12796.3018 - root_mean_squared_error: 113.1207\n",
      "1130/1130 [==============================] - 4s 4ms/step - loss: 2327.7598 - root_mean_squared_error: 48.2469\n",
      "1130/1130 [==============================] - 4s 3ms/step - loss: 18713.0215 - root_mean_squared_error: 136.7955\n",
      "1130/1130 [==============================] - 4s 4ms/step - loss: 129.6491 - root_mean_squared_error: 11.3864\n",
      "1130/1130 [==============================] - 3s 3ms/step - loss: 14810.8018 - root_mean_squared_error: 121.6996\n",
      "1130/1130 [==============================] - 3s 3ms/step - loss: 27275.4707 - root_mean_squared_error: 165.1529\n",
      "1130/1130 [==============================] - 3s 3ms/step - loss: 36.7308 - root_mean_squared_error: 6.0606\n"
     ]
    },
    {
     "data": {
      "image/png": "[encoded data removed]",
      "text/plain": [
       "<Figure size 432x288 with 1 Axes>"
      ]
     },
     "metadata": {
      "needs_background": "light"
     },
     "output_type": "display_data"
    }
   ],
   "source": [
    "for city_perm in cities:\n",
    "    train_x, train_y, _, _, train_dataset, _ = load_csv(city_perm, True)\n",
    "    rmse_list_perm = []\n",
    "    model = tf.keras.models.load_model('models/{}_model_NN'.format(city_perm))\n",
    "    for i in range(len(train_x.columns)):\n",
    "        train_x_perm = train_x.copy()\n",
    "        train_x_perm[i] = np.random.permutation(train_x[i].values)\n",
    "        train_dataset_perm = tf.data.Dataset.from_tensor_slices((train_x_perm, train_y)).batch(64)\n",
    "        rmse_list_perm.append(model.evaluate(train_dataset_perm)[1])\n",
    "    remse_train = model.evaluate(train_dataset)[1]\n",
    "    if city_perm == 'BarrancoMinas':\n",
    "        city_perm = 'Barrancominas'\n",
    "    elif city_perm == 'PuertoMerizalde':\n",
    "        city_perm = 'Puerto Merizalde'\n",
    "    plt.bar(range(train_x.shape[1]), (np.array(rmse_list_perm) - remse_train)/(remse_train)*100,color = 'blue')\n",
    "    plt.xticks(range(train_x.shape[1]), ['\\u03B1', 'GHI', 'h', 'Mt', '\\u03C9', '\\u03B4', '\\u03B8z', 'TL'],fontsize=font_size )\n",
    "    plt.ylabel('RMSE percentage variation from original RMSE',fontsize=font_size)\n",
    "    plt.xlabel('Features', fontsize=font_size)\n",
    "    plt.yticks(size=font_size)\n",
    "    plt.savefig('img/PM{}.png'.format(city_perm))\n",
    "    plt.title('Permutation Importance in ANN model for {} based on RMSE'.format(city_perm),fontsize=font_size)\n",
    "    plt.rcParams['font.family'] = 'serif'\n",
    "    plt.rcParams['font.serif'] = ['Times New Roman'] + plt.rcParams['font.serif']\n",
    "    plt.show()"
   ]
  },
  {
   "cell_type": "markdown",
   "id": "polar-agency",
   "metadata": {},
   "source": [
    "## Random Forest Feature Importance"
   ]
  },
  {
   "cell_type": "code",
   "execution_count": 5,
   "id": "million-congo",
   "metadata": {},
   "outputs": [],
   "source": [
    "rf_reg = RandomForestRegressor(n_estimators=100, criterion='mse')"
   ]
  },
  {
   "cell_type": "code",
   "execution_count": 6,
   "id": "durable-element",
   "metadata": {},
   "outputs": [
    {
     "data": {
      "text/plain": [
       "RandomForestRegressor()"
      ]
     },
     "execution_count": 6,
     "metadata": {},
     "output_type": "execute_result"
    }
   ],
   "source": [
    "rf_reg.fit(train_x, train_y)"
   ]
  },
  {
   "cell_type": "code",
   "execution_count": 21,
   "id": "forbidden-stocks",
   "metadata": {},
   "outputs": [
    {
     "data": {
      "image/png": "[encoded data removed]",
      "text/plain": [
       "<Figure size 432x288 with 1 Axes>"
      ]
     },
     "metadata": {
      "needs_background": "light"
     },
     "output_type": "display_data"
    }
   ],
   "source": [
    "plt.bar(range(test_x.shape[1]), rf_reg.feature_importances_,color = 'blue')\n",
    "plt.xticks(range(test_x.shape[1]), ['\\u03B1', 'GHI', 'h', 'Mt', '\\u03C9', '\\u03B4', '\\u03B8z', 'TL'],fontsize=font_size )\n",
    "plt.ylabel('Feature Importance',fontsize=font_size)\n",
    "plt.xlabel('Features', fontsize=font_size)\n",
    "plt.yticks(size=font_size)\n",
    "plt.savefig('img/FIRF_{}.png'.format(city))\n",
    "plt.title('Feature Importance in RF model for {}'.format(city),fontsize=font_size)\n",
    "plt.rcParams['font.family'] = 'serif'\n",
    "plt.rcParams['font.serif'] = ['Times New Roman'] + plt.rcParams['font.serif']\n",
    "plt.show()"
   ]
  },
  {
   "cell_type": "code",
   "execution_count": 489,
   "id": "chubby-press",
   "metadata": {},
   "outputs": [
    {
     "name": "stdout",
     "output_type": "stream",
     "text": [
      "The Coefficient of determination over the test data is  0.9976081796783078\n",
      "The MBE over the test data is  -0.4396279264596307\n",
      "The RMSE metric over the test data is  7.208483305618184\n"
     ]
    }
   ],
   "source": [
    "predictions_RF = rf_reg.predict(test_x)\n",
    "print(\"The Coefficient of determination over the test data is \", sklearn.metrics.r2_score(test_y, predictions_RF))\n",
    "print(\"The MBE over the test data is \", MBE(test_y, predictions_RF))\n",
    "print('The RMSE metric over the test data is ', sklearn.metrics.mean_squared_error(test_y, predictions_RF, squared=False) )"
   ]
  }
 ],
 "metadata": {
  "kernelspec": {
   "display_name": "Python 3",
   "language": "python",
   "name": "python3"
  },
  "language_info": {
   "codemirror_mode": {
    "name": "ipython",
    "version": 3
   },
   "file_extension": ".py",
   "mimetype": "text/x-python",
   "name": "python",
   "nbconvert_exporter": "python",
   "pygments_lexer": "ipython3",
   "version": "3.8.5"
  }
 },
 "nbformat": 4,
 "nbformat_minor": 5
}
